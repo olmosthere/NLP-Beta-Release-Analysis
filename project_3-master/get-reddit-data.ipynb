{
 "cells": [
  {
   "cell_type": "code",
   "execution_count": 77,
   "id": "b2d749f5",
   "metadata": {},
   "outputs": [],
   "source": [
    "import requests\n",
    "import pandas as pd\n",
    "import numpy as np\n",
    "import time"
   ]
  },
  {
   "cell_type": "code",
   "execution_count": 15,
   "id": "28f67d83",
   "metadata": {},
   "outputs": [
    {
     "data": {
      "text/html": [
       "<div>\n",
       "<style scoped>\n",
       "    .dataframe tbody tr th:only-of-type {\n",
       "        vertical-align: middle;\n",
       "    }\n",
       "\n",
       "    .dataframe tbody tr th {\n",
       "        vertical-align: top;\n",
       "    }\n",
       "\n",
       "    .dataframe thead th {\n",
       "        text-align: right;\n",
       "    }\n",
       "</style>\n",
       "<table border=\"1\" class=\"dataframe\">\n",
       "  <thead>\n",
       "    <tr style=\"text-align: right;\">\n",
       "      <th></th>\n",
       "      <th>subreddit</th>\n",
       "      <th>title</th>\n",
       "    </tr>\n",
       "  </thead>\n",
       "  <tbody>\n",
       "  </tbody>\n",
       "</table>\n",
       "</div>"
      ],
      "text/plain": [
       "Empty DataFrame\n",
       "Columns: [subreddit, title]\n",
       "Index: []"
      ]
     },
     "execution_count": 15,
     "metadata": {},
     "output_type": "execute_result"
    }
   ],
   "source": [
    "df_full = pd.DataFrame(columns= ['subreddit', 'title'])\n",
    "df_full"
   ]
  },
  {
   "cell_type": "code",
   "execution_count": 3,
   "id": "86ef37fd",
   "metadata": {},
   "outputs": [],
   "source": [
    "url = 'https://api.pushshift.io/reddit/search/submission'"
   ]
  },
  {
   "cell_type": "code",
   "execution_count": 65,
   "id": "ef652e70",
   "metadata": {},
   "outputs": [],
   "source": [
    "params = {\n",
    "    'subreddit' : 'CODVanguard',\n",
    "    'size' : 100,\n",
    "    #Use before parameter after first run\n",
    "#    'before' : 1633852634\n",
    "}"
   ]
  },
  {
   "cell_type": "code",
   "execution_count": 66,
   "id": "56ef4c94",
   "metadata": {},
   "outputs": [],
   "source": [
    "res = requests.get(url, params)"
   ]
  },
  {
   "cell_type": "code",
   "execution_count": 67,
   "id": "f1c40bef",
   "metadata": {},
   "outputs": [
    {
     "data": {
      "text/plain": [
       "200"
      ]
     },
     "execution_count": 67,
     "metadata": {},
     "output_type": "execute_result"
    }
   ],
   "source": [
    "res.status_code"
   ]
  },
  {
   "cell_type": "code",
   "execution_count": 68,
   "id": "34f454fe",
   "metadata": {},
   "outputs": [],
   "source": [
    "data = res.json()"
   ]
  },
  {
   "cell_type": "code",
   "execution_count": 69,
   "id": "163b7ac2",
   "metadata": {},
   "outputs": [],
   "source": [
    "posts = data['data']"
   ]
  },
  {
   "cell_type": "code",
   "execution_count": 70,
   "id": "4ab55ad1",
   "metadata": {},
   "outputs": [
    {
     "data": {
      "text/plain": [
       "100"
      ]
     },
     "execution_count": 70,
     "metadata": {},
     "output_type": "execute_result"
    }
   ],
   "source": [
    "len(posts)"
   ]
  },
  {
   "cell_type": "code",
   "execution_count": 71,
   "id": "b11e63c8",
   "metadata": {},
   "outputs": [],
   "source": [
    "df = pd.DataFrame(posts)"
   ]
  },
  {
   "cell_type": "code",
   "execution_count": 72,
   "id": "8e4f465c",
   "metadata": {},
   "outputs": [
    {
     "data": {
      "text/plain": [
       "0     1633847075\n",
       "1     1633842049\n",
       "2     1633839807\n",
       "3     1633839759\n",
       "4     1633839663\n",
       "         ...    \n",
       "95    1633210230\n",
       "96    1633204469\n",
       "97    1633190632\n",
       "98    1633171853\n",
       "99    1633158154\n",
       "Name: created_utc, Length: 100, dtype: int64"
      ]
     },
     "execution_count": 72,
     "metadata": {},
     "output_type": "execute_result"
    }
   ],
   "source": [
    "df['created_utc']"
   ]
  },
  {
   "cell_type": "code",
   "execution_count": 73,
   "id": "d86464d7",
   "metadata": {
    "scrolled": true
   },
   "outputs": [
    {
     "data": {
      "text/plain": [
       "1633847075"
      ]
     },
     "execution_count": 73,
     "metadata": {},
     "output_type": "execute_result"
    }
   ],
   "source": [
    "df.loc[0]['created_utc']\n",
    "#UTC timecode for first post in request"
   ]
  },
  {
   "cell_type": "code",
   "execution_count": 74,
   "id": "4af7431f",
   "metadata": {},
   "outputs": [
    {
     "data": {
      "text/plain": [
       "1633158154"
      ]
     },
     "execution_count": 74,
     "metadata": {},
     "output_type": "execute_result"
    }
   ],
   "source": [
    "df.iloc[-1]['created_utc']\n",
    "## UTC timecode for last post in request\n",
    "## We will use this value with the before parameter to rerun the request"
   ]
  },
  {
   "cell_type": "code",
   "execution_count": 75,
   "id": "235d8cee",
   "metadata": {},
   "outputs": [],
   "source": [
    "df_full = pd.concat([df_full, df[['subreddit', 'title']]])\n",
    "## Add current 100 posts to full dataframe"
   ]
  },
  {
   "cell_type": "code",
   "execution_count": 76,
   "id": "a1b433ca",
   "metadata": {},
   "outputs": [
    {
     "data": {
      "text/html": [
       "<div>\n",
       "<style scoped>\n",
       "    .dataframe tbody tr th:only-of-type {\n",
       "        vertical-align: middle;\n",
       "    }\n",
       "\n",
       "    .dataframe tbody tr th {\n",
       "        vertical-align: top;\n",
       "    }\n",
       "\n",
       "    .dataframe thead th {\n",
       "        text-align: right;\n",
       "    }\n",
       "</style>\n",
       "<table border=\"1\" class=\"dataframe\">\n",
       "  <thead>\n",
       "    <tr style=\"text-align: right;\">\n",
       "      <th></th>\n",
       "      <th>subreddit</th>\n",
       "      <th>title</th>\n",
       "    </tr>\n",
       "  </thead>\n",
       "  <tbody>\n",
       "    <tr>\n",
       "      <th>0</th>\n",
       "      <td>battlefield2042</td>\n",
       "      <td>Hazard zone needs option to play trios, duos a...</td>\n",
       "    </tr>\n",
       "    <tr>\n",
       "      <th>1</th>\n",
       "      <td>battlefield2042</td>\n",
       "      <td>I think they should add a generic soldier that...</td>\n",
       "    </tr>\n",
       "    <tr>\n",
       "      <th>2</th>\n",
       "      <td>battlefield2042</td>\n",
       "      <td>How to fix Battlefield 2042:</td>\n",
       "    </tr>\n",
       "    <tr>\n",
       "      <th>3</th>\n",
       "      <td>battlefield2042</td>\n",
       "      <td>Hazard Zone Decisions</td>\n",
       "    </tr>\n",
       "    <tr>\n",
       "      <th>4</th>\n",
       "      <td>battlefield2042</td>\n",
       "      <td>So I’m confused. When can I play?</td>\n",
       "    </tr>\n",
       "    <tr>\n",
       "      <th>...</th>\n",
       "      <td>...</td>\n",
       "      <td>...</td>\n",
       "    </tr>\n",
       "    <tr>\n",
       "      <th>95</th>\n",
       "      <td>CODVanguard</td>\n",
       "      <td>Best Weapon</td>\n",
       "    </tr>\n",
       "    <tr>\n",
       "      <th>96</th>\n",
       "      <td>CODVanguard</td>\n",
       "      <td>Any of you Xbox players use the front bumpers ...</td>\n",
       "    </tr>\n",
       "    <tr>\n",
       "      <th>97</th>\n",
       "      <td>CODVanguard</td>\n",
       "      <td>I'm worried about the MP map design and flow</td>\n",
       "    </tr>\n",
       "    <tr>\n",
       "      <th>98</th>\n",
       "      <td>CODVanguard</td>\n",
       "      <td>[LEAK] All perks in Vanguard according to @The...</td>\n",
       "    </tr>\n",
       "    <tr>\n",
       "      <th>99</th>\n",
       "      <td>CODVanguard</td>\n",
       "      <td>Search &amp;amp; Destroy game chat isnt teamlocked...</td>\n",
       "    </tr>\n",
       "  </tbody>\n",
       "</table>\n",
       "<p>499 rows × 2 columns</p>\n",
       "</div>"
      ],
      "text/plain": [
       "          subreddit                                              title\n",
       "0   battlefield2042  Hazard zone needs option to play trios, duos a...\n",
       "1   battlefield2042  I think they should add a generic soldier that...\n",
       "2   battlefield2042                       How to fix Battlefield 2042:\n",
       "3   battlefield2042                              Hazard Zone Decisions\n",
       "4   battlefield2042                  So I’m confused. When can I play?\n",
       "..              ...                                                ...\n",
       "95      CODVanguard                                        Best Weapon\n",
       "96      CODVanguard  Any of you Xbox players use the front bumpers ...\n",
       "97      CODVanguard       I'm worried about the MP map design and flow\n",
       "98      CODVanguard  [LEAK] All perks in Vanguard according to @The...\n",
       "99      CODVanguard  Search &amp; Destroy game chat isnt teamlocked...\n",
       "\n",
       "[499 rows x 2 columns]"
      ]
     },
     "execution_count": 76,
     "metadata": {},
     "output_type": "execute_result"
    }
   ],
   "source": [
    "df_full"
   ]
  },
  {
   "cell_type": "code",
   "execution_count": 244,
   "id": "1561cfcc",
   "metadata": {
    "scrolled": false
   },
   "outputs": [
    {
     "data": {
      "text/html": [
       "<div>\n",
       "<style scoped>\n",
       "    .dataframe tbody tr th:only-of-type {\n",
       "        vertical-align: middle;\n",
       "    }\n",
       "\n",
       "    .dataframe tbody tr th {\n",
       "        vertical-align: top;\n",
       "    }\n",
       "\n",
       "    .dataframe thead th {\n",
       "        text-align: right;\n",
       "    }\n",
       "</style>\n",
       "<table border=\"1\" class=\"dataframe\">\n",
       "  <thead>\n",
       "    <tr style=\"text-align: right;\">\n",
       "      <th></th>\n",
       "      <th>subreddit</th>\n",
       "      <th>title</th>\n",
       "    </tr>\n",
       "  </thead>\n",
       "  <tbody>\n",
       "    <tr>\n",
       "      <th>0</th>\n",
       "      <td>CODVanguard</td>\n",
       "      <td>|Vanguard vs BF2042| It´s decided: I´ll go wit...</td>\n",
       "    </tr>\n",
       "    <tr>\n",
       "      <th>1</th>\n",
       "      <td>CODVanguard</td>\n",
       "      <td>Does anyone recognize any of these guns? These...</td>\n",
       "    </tr>\n",
       "    <tr>\n",
       "      <th>2</th>\n",
       "      <td>CODVanguard</td>\n",
       "      <td>It's official everyone sledgehammer is indeed ...</td>\n",
       "    </tr>\n",
       "    <tr>\n",
       "      <th>3</th>\n",
       "      <td>CODVanguard</td>\n",
       "      <td>Do you think melee, riot shields, and launcher...</td>\n",
       "    </tr>\n",
       "    <tr>\n",
       "      <th>4</th>\n",
       "      <td>CODVanguard</td>\n",
       "      <td>To nathan45w</td>\n",
       "    </tr>\n",
       "    <tr>\n",
       "      <th>...</th>\n",
       "      <td>...</td>\n",
       "      <td>...</td>\n",
       "    </tr>\n",
       "    <tr>\n",
       "      <th>1995</th>\n",
       "      <td>battlefield2042</td>\n",
       "      <td>My impressions of the beta so far...</td>\n",
       "    </tr>\n",
       "    <tr>\n",
       "      <th>1996</th>\n",
       "      <td>battlefield2042</td>\n",
       "      <td>Battlefield 2042 open beta: the amazing, good,...</td>\n",
       "    </tr>\n",
       "    <tr>\n",
       "      <th>1997</th>\n",
       "      <td>battlefield2042</td>\n",
       "      <td>Sensitivity?</td>\n",
       "    </tr>\n",
       "    <tr>\n",
       "      <th>1998</th>\n",
       "      <td>battlefield2042</td>\n",
       "      <td>Game locks up at 20 FPS mid match</td>\n",
       "    </tr>\n",
       "    <tr>\n",
       "      <th>1999</th>\n",
       "      <td>battlefield2042</td>\n",
       "      <td>SURFING a JET in the beta</td>\n",
       "    </tr>\n",
       "  </tbody>\n",
       "</table>\n",
       "<p>2000 rows × 2 columns</p>\n",
       "</div>"
      ],
      "text/plain": [
       "            subreddit                                              title\n",
       "0         CODVanguard  |Vanguard vs BF2042| It´s decided: I´ll go wit...\n",
       "1         CODVanguard  Does anyone recognize any of these guns? These...\n",
       "2         CODVanguard  It's official everyone sledgehammer is indeed ...\n",
       "3         CODVanguard  Do you think melee, riot shields, and launcher...\n",
       "4         CODVanguard                                       To nathan45w\n",
       "...               ...                                                ...\n",
       "1995  battlefield2042               My impressions of the beta so far...\n",
       "1996  battlefield2042  Battlefield 2042 open beta: the amazing, good,...\n",
       "1997  battlefield2042                                       Sensitivity?\n",
       "1998  battlefield2042                  Game locks up at 20 FPS mid match\n",
       "1999  battlefield2042                          SURFING a JET in the beta\n",
       "\n",
       "[2000 rows x 2 columns]"
      ]
     },
     "execution_count": 244,
     "metadata": {},
     "output_type": "execute_result"
    }
   ],
   "source": [
    "df_full.reset_index(inplace= True)\n",
    "## reset the index"
   ]
  },
  {
   "cell_type": "code",
   "execution_count": 246,
   "id": "940788da",
   "metadata": {},
   "outputs": [
    {
     "data": {
      "text/html": [
       "<div>\n",
       "<style scoped>\n",
       "    .dataframe tbody tr th:only-of-type {\n",
       "        vertical-align: middle;\n",
       "    }\n",
       "\n",
       "    .dataframe tbody tr th {\n",
       "        vertical-align: top;\n",
       "    }\n",
       "\n",
       "    .dataframe thead th {\n",
       "        text-align: right;\n",
       "    }\n",
       "</style>\n",
       "<table border=\"1\" class=\"dataframe\">\n",
       "  <thead>\n",
       "    <tr style=\"text-align: right;\">\n",
       "      <th></th>\n",
       "      <th>subreddit</th>\n",
       "      <th>title</th>\n",
       "    </tr>\n",
       "  </thead>\n",
       "  <tbody>\n",
       "    <tr>\n",
       "      <th>0</th>\n",
       "      <td>CODVanguard</td>\n",
       "      <td>|Vanguard vs BF2042| It´s decided: I´ll go wit...</td>\n",
       "    </tr>\n",
       "    <tr>\n",
       "      <th>1</th>\n",
       "      <td>CODVanguard</td>\n",
       "      <td>Does anyone recognize any of these guns? These...</td>\n",
       "    </tr>\n",
       "    <tr>\n",
       "      <th>2</th>\n",
       "      <td>CODVanguard</td>\n",
       "      <td>It's official everyone sledgehammer is indeed ...</td>\n",
       "    </tr>\n",
       "    <tr>\n",
       "      <th>3</th>\n",
       "      <td>CODVanguard</td>\n",
       "      <td>Do you think melee, riot shields, and launcher...</td>\n",
       "    </tr>\n",
       "    <tr>\n",
       "      <th>4</th>\n",
       "      <td>CODVanguard</td>\n",
       "      <td>To nathan45w</td>\n",
       "    </tr>\n",
       "    <tr>\n",
       "      <th>...</th>\n",
       "      <td>...</td>\n",
       "      <td>...</td>\n",
       "    </tr>\n",
       "    <tr>\n",
       "      <th>1995</th>\n",
       "      <td>battlefield2042</td>\n",
       "      <td>My impressions of the beta so far...</td>\n",
       "    </tr>\n",
       "    <tr>\n",
       "      <th>1996</th>\n",
       "      <td>battlefield2042</td>\n",
       "      <td>Battlefield 2042 open beta: the amazing, good,...</td>\n",
       "    </tr>\n",
       "    <tr>\n",
       "      <th>1997</th>\n",
       "      <td>battlefield2042</td>\n",
       "      <td>Sensitivity?</td>\n",
       "    </tr>\n",
       "    <tr>\n",
       "      <th>1998</th>\n",
       "      <td>battlefield2042</td>\n",
       "      <td>Game locks up at 20 FPS mid match</td>\n",
       "    </tr>\n",
       "    <tr>\n",
       "      <th>1999</th>\n",
       "      <td>battlefield2042</td>\n",
       "      <td>SURFING a JET in the beta</td>\n",
       "    </tr>\n",
       "  </tbody>\n",
       "</table>\n",
       "<p>2000 rows × 2 columns</p>\n",
       "</div>"
      ],
      "text/plain": [
       "            subreddit                                              title\n",
       "0         CODVanguard  |Vanguard vs BF2042| It´s decided: I´ll go wit...\n",
       "1         CODVanguard  Does anyone recognize any of these guns? These...\n",
       "2         CODVanguard  It's official everyone sledgehammer is indeed ...\n",
       "3         CODVanguard  Do you think melee, riot shields, and launcher...\n",
       "4         CODVanguard                                       To nathan45w\n",
       "...               ...                                                ...\n",
       "1995  battlefield2042               My impressions of the beta so far...\n",
       "1996  battlefield2042  Battlefield 2042 open beta: the amazing, good,...\n",
       "1997  battlefield2042                                       Sensitivity?\n",
       "1998  battlefield2042                  Game locks up at 20 FPS mid match\n",
       "1999  battlefield2042                          SURFING a JET in the beta\n",
       "\n",
       "[2000 rows x 2 columns]"
      ]
     },
     "execution_count": 246,
     "metadata": {},
     "output_type": "execute_result"
    }
   ],
   "source": [
    "df_full"
   ]
  },
  {
   "cell_type": "code",
   "execution_count": 247,
   "id": "18674f7c",
   "metadata": {},
   "outputs": [],
   "source": [
    "df_full.to_csv('./data/reddit_posts.csv')"
   ]
  },
  {
   "cell_type": "code",
   "execution_count": 248,
   "id": "f006de14",
   "metadata": {},
   "outputs": [],
   "source": [
    "## Coded along with training video: https://www.youtube.com/watch?v=AcrjEWsMi_E"
   ]
  }
 ],
 "metadata": {
  "kernelspec": {
   "display_name": "Python 3",
   "language": "python",
   "name": "python3"
  },
  "language_info": {
   "codemirror_mode": {
    "name": "ipython",
    "version": 3
   },
   "file_extension": ".py",
   "mimetype": "text/x-python",
   "name": "python",
   "nbconvert_exporter": "python",
   "pygments_lexer": "ipython3",
   "version": "3.8.8"
  }
 },
 "nbformat": 4,
 "nbformat_minor": 5
}
