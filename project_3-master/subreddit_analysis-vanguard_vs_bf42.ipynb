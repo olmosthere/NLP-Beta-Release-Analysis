{
 "cells": [
  {
   "cell_type": "code",
   "execution_count": 1,
   "id": "e4ebd9d4",
   "metadata": {},
   "outputs": [],
   "source": [
    "# imports\n",
    "import pandas as pd\n",
    "import matplotlib.pyplot as plt\n",
    "import seaborn as sns\n",
    "\n",
    "from sklearn.model_selection import train_test_split, GridSearchCV\n",
    "from sklearn.pipeline import Pipeline\n",
    "from sklearn.naive_bayes import MultinomialNB\n",
    "from sklearn.linear_model import LogisticRegression\n",
    "from sklearn.metrics import confusion_matrix, plot_confusion_matrix, accuracy_score\n",
    "from sklearn.ensemble import RandomForestClassifier\n",
    "\n",
    "\n",
    "# Import CountVectorizer and TFIDFVectorizer from feature_extraction.text.\n",
    "from sklearn.feature_extraction.text import CountVectorizer, TfidfVectorizer, TfidfTransformer\n",
    "\n",
    "from nltk.tokenize import sent_tokenize, word_tokenize, RegexpTokenizer\n",
    "from nltk.stem import WordNetLemmatizer\n",
    "from nltk.stem.porter import PorterStemmer\n",
    "from nltk.corpus import stopwords\n",
    "\n",
    "##Lesson 5.03 & 5.04"
   ]
  },
  {
   "cell_type": "code",
   "execution_count": 2,
   "id": "0cec390a",
   "metadata": {},
   "outputs": [],
   "source": [
    "reddit = pd.read_csv('./data/reddit_posts.csv')"
   ]
  },
  {
   "cell_type": "code",
   "execution_count": 3,
   "id": "18e2924f",
   "metadata": {},
   "outputs": [
    {
     "data": {
      "text/html": [
       "<div>\n",
       "<style scoped>\n",
       "    .dataframe tbody tr th:only-of-type {\n",
       "        vertical-align: middle;\n",
       "    }\n",
       "\n",
       "    .dataframe tbody tr th {\n",
       "        vertical-align: top;\n",
       "    }\n",
       "\n",
       "    .dataframe thead th {\n",
       "        text-align: right;\n",
       "    }\n",
       "</style>\n",
       "<table border=\"1\" class=\"dataframe\">\n",
       "  <thead>\n",
       "    <tr style=\"text-align: right;\">\n",
       "      <th></th>\n",
       "      <th>Unnamed: 0</th>\n",
       "      <th>subreddit</th>\n",
       "      <th>title</th>\n",
       "    </tr>\n",
       "  </thead>\n",
       "  <tbody>\n",
       "    <tr>\n",
       "      <th>0</th>\n",
       "      <td>0</td>\n",
       "      <td>CODVanguard</td>\n",
       "      <td>|Vanguard vs BF2042| It´s decided: I´ll go wit...</td>\n",
       "    </tr>\n",
       "    <tr>\n",
       "      <th>1</th>\n",
       "      <td>1</td>\n",
       "      <td>CODVanguard</td>\n",
       "      <td>Does anyone recognize any of these guns? These...</td>\n",
       "    </tr>\n",
       "    <tr>\n",
       "      <th>2</th>\n",
       "      <td>2</td>\n",
       "      <td>CODVanguard</td>\n",
       "      <td>It's official everyone sledgehammer is indeed ...</td>\n",
       "    </tr>\n",
       "    <tr>\n",
       "      <th>3</th>\n",
       "      <td>3</td>\n",
       "      <td>CODVanguard</td>\n",
       "      <td>Do you think melee, riot shields, and launcher...</td>\n",
       "    </tr>\n",
       "    <tr>\n",
       "      <th>4</th>\n",
       "      <td>4</td>\n",
       "      <td>CODVanguard</td>\n",
       "      <td>To nathan45w</td>\n",
       "    </tr>\n",
       "  </tbody>\n",
       "</table>\n",
       "</div>"
      ],
      "text/plain": [
       "   Unnamed: 0    subreddit                                              title\n",
       "0           0  CODVanguard  |Vanguard vs BF2042| It´s decided: I´ll go wit...\n",
       "1           1  CODVanguard  Does anyone recognize any of these guns? These...\n",
       "2           2  CODVanguard  It's official everyone sledgehammer is indeed ...\n",
       "3           3  CODVanguard  Do you think melee, riot shields, and launcher...\n",
       "4           4  CODVanguard                                       To nathan45w"
      ]
     },
     "execution_count": 3,
     "metadata": {},
     "output_type": "execute_result"
    }
   ],
   "source": [
    "reddit.head()"
   ]
  },
  {
   "cell_type": "code",
   "execution_count": 4,
   "id": "6dff30f7",
   "metadata": {},
   "outputs": [],
   "source": [
    "##Drop Unnamed column\n",
    "reddit.drop(columns=['Unnamed: 0'], inplace= True)"
   ]
  },
  {
   "cell_type": "code",
   "execution_count": 5,
   "id": "3e726442",
   "metadata": {},
   "outputs": [],
   "source": [
    "##Binarize subreddit into new column \"target\"\n",
    "reddit['target'] = [1 if value == 'CODVanguard' else 0 for value in reddit['subreddit']]"
   ]
  },
  {
   "cell_type": "code",
   "execution_count": 6,
   "id": "78d4f531",
   "metadata": {},
   "outputs": [],
   "source": [
    "##Initialize Regexp\n",
    "tokenizer_1 = RegexpTokenizer(r'\\w+')"
   ]
  },
  {
   "cell_type": "code",
   "execution_count": 7,
   "id": "8df1862d",
   "metadata": {},
   "outputs": [],
   "source": [
    "##Create a new column with list of tokenized words\n",
    "reddit['tokenized title'] = [tokenizer_1.tokenize(post.lower()) for post in reddit['title']]"
   ]
  },
  {
   "cell_type": "code",
   "execution_count": 8,
   "id": "6bcc9c78",
   "metadata": {},
   "outputs": [],
   "source": [
    "##Initialize lemmatizer\n",
    "lemmatizer = WordNetLemmatizer()"
   ]
  },
  {
   "cell_type": "code",
   "execution_count": 105,
   "id": "edfaaed3",
   "metadata": {},
   "outputs": [
    {
     "data": {
      "text/plain": [
       "False"
      ]
     },
     "execution_count": 105,
     "metadata": {},
     "output_type": "execute_result"
    }
   ],
   "source": [
    "##Create a stopwords list with a few of the low hanging fruit words removed\n",
    "stopwords_full = stopwords.words('english')\n",
    "stopwords_full.extend([\"vanguard\", \"cod\", \"call\", \"duty\", \"bf\", \"2042\", \"battlefield\", \"battlefield2024\", \"bf2042\"])"
   ]
  },
  {
   "cell_type": "code",
   "execution_count": 67,
   "id": "41348d74",
   "metadata": {},
   "outputs": [],
   "source": [
    "##Create a sentence of lemmatized words, then join them as a new lemmatized title\n",
    "lemma_title = []\n",
    "for row in reddit['tokenized title']:\n",
    "    lemma_sent = []\n",
    "    for word in row:\n",
    "        if word not in stopwords_full:\n",
    "            lemma_sent.append(lemmatizer.lemmatize(word))\n",
    "    lemma_title.append(' '.join(lemma_sent))"
   ]
  },
  {
   "cell_type": "code",
   "execution_count": 68,
   "id": "7808ea76",
   "metadata": {},
   "outputs": [],
   "source": [
    "##Add lemmatized title as new column\n",
    "reddit['lemma_title'] = lemma_title"
   ]
  },
  {
   "cell_type": "code",
   "execution_count": 69,
   "id": "3af68ee6",
   "metadata": {},
   "outputs": [],
   "source": [
    "##Do the same with stemmed title\n",
    "p_stemmer = PorterStemmer()"
   ]
  },
  {
   "cell_type": "code",
   "execution_count": 70,
   "id": "f6e2ec21",
   "metadata": {},
   "outputs": [],
   "source": [
    "stem_title = []\n",
    "for row in reddit['tokenized title']:\n",
    "    stem_sent = []\n",
    "    for word in row:\n",
    "        if word not in stopwords_full:\n",
    "            stem_sent.append(p_stemmer.stem(word))\n",
    "    stem_title.append(' '.join(stem_sent))"
   ]
  },
  {
   "cell_type": "code",
   "execution_count": 71,
   "id": "ec2f7f31",
   "metadata": {},
   "outputs": [],
   "source": [
    "reddit['stem_title'] = stem_title"
   ]
  },
  {
   "cell_type": "code",
   "execution_count": 72,
   "id": "ee00a09c",
   "metadata": {},
   "outputs": [],
   "source": [
    "##Add column for title character length\n",
    "reddit['title_char_length'] = reddit['title'].map(len)"
   ]
  },
  {
   "cell_type": "code",
   "execution_count": 73,
   "id": "2ceb5320",
   "metadata": {},
   "outputs": [],
   "source": [
    "##Add column for title word count\n",
    "reddit['title_word_count'] = [len(value.split()) for value in reddit['title']]"
   ]
  },
  {
   "cell_type": "code",
   "execution_count": 106,
   "id": "69119abc",
   "metadata": {},
   "outputs": [
    {
     "data": {
      "image/png": "[encoded data removed]",
      "text/plain": [
       "<Figure size 432x288 with 1 Axes>"
      ]
     },
     "metadata": {
      "needs_background": "light"
     },
     "output_type": "display_data"
    }
   ],
   "source": [
    "sns.histplot(data= reddit, x = 'title_char_length', hue= 'subreddit', multiple= 'stack')\n",
    "plt.xlabel(\"Title Character Length\");"
   ]
  },
  {
   "cell_type": "code",
   "execution_count": 107,
   "id": "fffd27e9",
   "metadata": {},
   "outputs": [
    {
     "data": {
      "image/png": "[encoded data removed]",
      "text/plain": [
       "<Figure size 432x288 with 1 Axes>"
      ]
     },
     "metadata": {
      "needs_background": "light"
     },
     "output_type": "display_data"
    }
   ],
   "source": [
    "sns.histplot(data= reddit, x = 'title_word_count', hue= 'subreddit', multiple= 'stack')\n",
    "plt.xlabel(\"Title Word Count\");"
   ]
  },
  {
   "cell_type": "code",
   "execution_count": 76,
   "id": "4baa8f89",
   "metadata": {
    "scrolled": true
   },
   "outputs": [
    {
     "data": {
      "text/plain": [
       "<AxesSubplot:>"
      ]
     },
     "execution_count": 76,
     "metadata": {},
     "output_type": "execute_result"
    },
    {
     "data": {
      "image/png": "[encoded data removed]",
      "text/plain": [
       "<Figure size 432x288 with 1 Axes>"
      ]
     },
     "metadata": {
      "needs_background": "light"
     },
     "output_type": "display_data"
    }
   ],
   "source": [
    "cod = reddit.loc[reddit['subreddit'] == 'CODVanguard', :]\n",
    "\n",
    "cv = CountVectorizer(stop_words= stopwords_full, min_df= 3, ngram_range=(2,2))\n",
    "cv.fit(cod['title'])\n",
    "\n",
    "title_cv = cv.transform(cod['title'])\n",
    "title_df = pd.DataFrame(title_cv.todense(), columns = cv.get_feature_names())\n",
    "title_df.sum().sort_values(ascending= False).head(20).plot(kind = 'bar')"
   ]
  },
  {
   "cell_type": "code",
   "execution_count": 77,
   "id": "1bd5284d",
   "metadata": {},
   "outputs": [
    {
     "data": {
      "text/plain": [
       "<AxesSubplot:>"
      ]
     },
     "execution_count": 77,
     "metadata": {},
     "output_type": "execute_result"
    },
    {
     "data": {
      "image/png": "[encoded data removed]",
      "text/plain": [
       "<Figure size 432x288 with 1 Axes>"
      ]
     },
     "metadata": {
      "needs_background": "light"
     },
     "output_type": "display_data"
    }
   ],
   "source": [
    "bf = reddit.loc[reddit['subreddit'] == 'battlefield2042', :]\n",
    "\n",
    "cv = CountVectorizer(stop_words= stopwords_full, min_df= 3, ngram_range=(2,2))\n",
    "cv.fit(bf['title'])\n",
    "\n",
    "title_cv = cv.transform(bf['title'])\n",
    "title_df = pd.DataFrame(title_cv.todense(), columns = cv.get_feature_names())\n",
    "title_df.sum().sort_values(ascending= False).head(20).plot(kind = 'bar')"
   ]
  },
  {
   "cell_type": "code",
   "execution_count": 78,
   "id": "c5ca2481",
   "metadata": {},
   "outputs": [],
   "source": [
    "## Dataframe to compare models\n",
    "df_compare = pd.DataFrame(columns=['Column Used', 'Best Estimator', 'Train Score', 'Test Score',\n",
    "                                        'True Positive', 'True Negative', 'False Positive', 'False Negative'])"
   ]
  },
  {
   "cell_type": "markdown",
   "id": "283fb76e",
   "metadata": {},
   "source": [
    "## Start Iteration"
   ]
  },
  {
   "cell_type": "code",
   "execution_count": 205,
   "id": "e3e11407",
   "metadata": {
    "scrolled": false
   },
   "outputs": [
    {
     "data": {
      "text/plain": [
       "Index(['subreddit', 'title', 'target', 'tokenized title', 'lemma_title',\n",
       "       'stem_title', 'title_char_length', 'title_word_count'],\n",
       "      dtype='object')"
      ]
     },
     "execution_count": 205,
     "metadata": {},
     "output_type": "execute_result"
    }
   ],
   "source": [
    "##View options for corpus\n",
    "reddit.columns"
   ]
  },
  {
   "cell_type": "code",
   "execution_count": 206,
   "id": "8bab1382",
   "metadata": {},
   "outputs": [],
   "source": [
    "##Pick title for corpus, then click the cell above, then click \"Cell\" >> \"Run All Below\"\n",
    "corpus = 'title'"
   ]
  },
  {
   "cell_type": "code",
   "execution_count": 207,
   "id": "fb61f23b",
   "metadata": {},
   "outputs": [],
   "source": [
    "X = reddit[corpus]\n",
    "y = reddit['target']"
   ]
  },
  {
   "cell_type": "code",
   "execution_count": 208,
   "id": "5b9d771b",
   "metadata": {},
   "outputs": [
    {
     "data": {
      "text/plain": [
       "0    0.5\n",
       "1    0.5\n",
       "Name: target, dtype: float64"
      ]
     },
     "execution_count": 208,
     "metadata": {},
     "output_type": "execute_result"
    }
   ],
   "source": [
    "##View baseline\n",
    "y.value_counts(normalize = True)"
   ]
  },
  {
   "cell_type": "code",
   "execution_count": 209,
   "id": "cc69dc58",
   "metadata": {},
   "outputs": [],
   "source": [
    "X_train, X_test, y_train, y_test = train_test_split(X, y, test_size=0.33, stratify=y, random_state=42)"
   ]
  },
  {
   "cell_type": "markdown",
   "id": "724d9ba9",
   "metadata": {},
   "source": [
    "## CVEC"
   ]
  },
  {
   "cell_type": "code",
   "execution_count": 210,
   "id": "67cd1927",
   "metadata": {},
   "outputs": [
    {
     "data": {
      "text/plain": [
       "CountVectorizer()"
      ]
     },
     "execution_count": 210,
     "metadata": {},
     "output_type": "execute_result"
    }
   ],
   "source": [
    "cvec = CountVectorizer()\n",
    "cvec.fit(X_train)"
   ]
  },
  {
   "cell_type": "code",
   "execution_count": 211,
   "id": "d4923fff",
   "metadata": {},
   "outputs": [],
   "source": [
    "##Create pipeline with CVEC and Multinomial NB\n",
    "pipe = Pipeline([\n",
    "    ('cvec', CountVectorizer()),\n",
    "    ('nb', MultinomialNB())\n",
    "])"
   ]
  },
  {
   "cell_type": "code",
   "execution_count": 212,
   "id": "026c2ef4",
   "metadata": {},
   "outputs": [],
   "source": [
    "##Set gridsearch params\n",
    "pipe_params = {\n",
    "    'cvec__max_features': [1_000, 1_500, 2_000],\n",
    "    'cvec__min_df': [1, 2, 3, 4],\n",
    "    'cvec__max_df': [.3, .4, .5],\n",
    "    'cvec__ngram_range': [(1,1), (1,2), (1,3)]\n",
    "}\n",
    "\n",
    "##Lesson 5.03 & 5.04"
   ]
  },
  {
   "cell_type": "code",
   "execution_count": 213,
   "id": "59540d89",
   "metadata": {},
   "outputs": [],
   "source": [
    "##Create grid search\n",
    "gs_cvec = GridSearchCV(pipe, \n",
    "                  param_grid=pipe_params, \n",
    "                  cv=5)"
   ]
  },
  {
   "cell_type": "code",
   "execution_count": 214,
   "id": "3993e214",
   "metadata": {
    "scrolled": false
   },
   "outputs": [
    {
     "data": {
      "text/plain": [
       "GridSearchCV(cv=5,\n",
       "             estimator=Pipeline(steps=[('cvec', CountVectorizer()),\n",
       "                                       ('nb', MultinomialNB())]),\n",
       "             param_grid={'cvec__max_df': [0.3, 0.4, 0.5],\n",
       "                         'cvec__max_features': [1000, 1500, 2000],\n",
       "                         'cvec__min_df': [1, 2, 3, 4],\n",
       "                         'cvec__ngram_range': [(1, 1), (1, 2), (1, 3)]})"
      ]
     },
     "execution_count": 214,
     "metadata": {},
     "output_type": "execute_result"
    }
   ],
   "source": [
    "##Fit grid search\n",
    "gs_cvec.fit(X_train, y_train)"
   ]
  },
  {
   "cell_type": "code",
   "execution_count": 215,
   "id": "9b6823b2",
   "metadata": {},
   "outputs": [
    {
     "name": "stdout",
     "output_type": "stream",
     "text": [
      "{'cvec__max_df': 0.4, 'cvec__max_features': 1500, 'cvec__min_df': 1, 'cvec__ngram_range': (1, 1)}\n"
     ]
    }
   ],
   "source": [
    "# What're the best params?\n",
    "print(gs_cvec.best_params_)"
   ]
  },
  {
   "cell_type": "code",
   "execution_count": 216,
   "id": "2a2f7b71",
   "metadata": {},
   "outputs": [],
   "source": [
    "# Get predictions\n",
    "preds = gs_cvec.predict(X_test)"
   ]
  },
  {
   "cell_type": "code",
   "execution_count": 217,
   "id": "d9b44049",
   "metadata": {},
   "outputs": [],
   "source": [
    "# Save confusion matrix values\n",
    "tn, fp, fn, tp = confusion_matrix(y_test, preds).ravel()"
   ]
  },
  {
   "cell_type": "code",
   "execution_count": 218,
   "id": "2220306d",
   "metadata": {
    "scrolled": true
   },
   "outputs": [
    {
     "data": {
      "image/png": "[encoded data removed]",
      "text/plain": [
       "<Figure size 432x288 with 2 Axes>"
      ]
     },
     "metadata": {
      "needs_background": "light"
     },
     "output_type": "display_data"
    }
   ],
   "source": [
    "# View confusion matrix\n",
    "plot_confusion_matrix(gs_cvec, X_test, y_test, cmap='Blues', values_format='d');"
   ]
  },
  {
   "cell_type": "code",
   "execution_count": 219,
   "id": "1f50e461",
   "metadata": {},
   "outputs": [],
   "source": [
    "##Get values ready for dataframe\n",
    "row_dict_cvec = {\n",
    "    'Column Used' : [corpus],\n",
    "    'Best Estimator' : [gs_cvec.best_estimator_],\n",
    "    'Train Score' : [gs_cvec.score(X_train, y_train)],\n",
    "    'Test Score' : [gs_cvec.score(X_test, y_test)],\n",
    "    'True Positive' : [tp],\n",
    "    'True Negative' : [tn],\n",
    "    'False Positive' : [fp],\n",
    "    'False Negative' : [fn]\n",
    "}\n",
    "\n",
    "## from https://stackoverflow.com/questions/17839973/constructing-pandas-dataframe-from-values-in-variables-gives-valueerror-if-usi"
   ]
  },
  {
   "cell_type": "markdown",
   "id": "5e40039f",
   "metadata": {},
   "source": [
    "### TVEC"
   ]
  },
  {
   "cell_type": "code",
   "execution_count": 220,
   "id": "b2c3e4a1",
   "metadata": {},
   "outputs": [],
   "source": [
    "##Do same for TVEC and Multinomial NB\n",
    "pipe_tvec = Pipeline([\n",
    "    ('tvec', TfidfVectorizer()),\n",
    "    ('nb', MultinomialNB())\n",
    "])\n",
    "##Lesson 5.03 & 5.04"
   ]
  },
  {
   "cell_type": "code",
   "execution_count": 221,
   "id": "5910da03",
   "metadata": {},
   "outputs": [],
   "source": [
    "pipe_tvec_params = {\n",
    "    'tvec__max_features': [2_000, 3_000, 4_000, 5_000],\n",
    "    'tvec__stop_words': [None, 'english'],\n",
    "    'tvec__ngram_range': [(1,1), (1,2)]\n",
    "}\n",
    "##Lesson 5.03 & 5.04"
   ]
  },
  {
   "cell_type": "code",
   "execution_count": 222,
   "id": "9d40d39c",
   "metadata": {},
   "outputs": [],
   "source": [
    "gs_tvec = GridSearchCV(pipe_tvec, \n",
    "                        param_grid = pipe_tvec_params,\n",
    "                        cv=5) \n",
    "##Lesson 5.03 & 5.04"
   ]
  },
  {
   "cell_type": "code",
   "execution_count": 223,
   "id": "51d518d3",
   "metadata": {},
   "outputs": [
    {
     "data": {
      "text/plain": [
       "GridSearchCV(cv=5,\n",
       "             estimator=Pipeline(steps=[('tvec', TfidfVectorizer()),\n",
       "                                       ('nb', MultinomialNB())]),\n",
       "             param_grid={'tvec__max_features': [2000, 3000, 4000, 5000],\n",
       "                         'tvec__ngram_range': [(1, 1), (1, 2)],\n",
       "                         'tvec__stop_words': [None, 'english']})"
      ]
     },
     "execution_count": 223,
     "metadata": {},
     "output_type": "execute_result"
    }
   ],
   "source": [
    "gs_tvec.fit(X_train, y_train)"
   ]
  },
  {
   "cell_type": "code",
   "execution_count": 224,
   "id": "d44b2e36",
   "metadata": {},
   "outputs": [],
   "source": [
    "# Get predictions\n",
    "preds_tvec = gs_tvec.predict(X_test)\n",
    "\n",
    "# Save confusion matrix values\n",
    "tn, fp, fn, tp = confusion_matrix(y_test, preds_tvec).ravel()"
   ]
  },
  {
   "cell_type": "code",
   "execution_count": null,
   "id": "64174490",
   "metadata": {},
   "outputs": [],
   "source": [
    "plot_confusion_matrix(gs_tvec, X_test, y_test, cmap='Blues', values_format='d');"
   ]
  },
  {
   "cell_type": "code",
   "execution_count": 225,
   "id": "3ae2ef70",
   "metadata": {},
   "outputs": [],
   "source": [
    "row_dict_tvec = {\n",
    "    'Column Used' : [corpus],\n",
    "    'Best Estimator' : [gs_tvec.best_estimator_],\n",
    "    'Train Score' : [gs_tvec.score(X_train, y_train)],\n",
    "    'Test Score' : [gs_tvec.score(X_test, y_test)],\n",
    "    'True Positive' : [tp],\n",
    "    'True Negative' : [tn],\n",
    "    'False Positive' : [fp],\n",
    "    'False Negative' : [fn]\n",
    "}"
   ]
  },
  {
   "cell_type": "markdown",
   "id": "b0905495",
   "metadata": {},
   "source": [
    "## Random Forest"
   ]
  },
  {
   "cell_type": "code",
   "execution_count": 226,
   "id": "2658614c",
   "metadata": {},
   "outputs": [
    {
     "name": "stdout",
     "output_type": "stream",
     "text": [
      "Fitting 5 folds for each of 48 candidates, totalling 240 fits\n"
     ]
    },
    {
     "data": {
      "text/plain": [
       "GridSearchCV(cv=5,\n",
       "             estimator=Pipeline(steps=[('cvec', CountVectorizer()),\n",
       "                                       ('tfidf', TfidfTransformer()),\n",
       "                                       ('rf', RandomForestClassifier())]),\n",
       "             param_grid={'cvec__max_features': [1500, 1800, 2000, 2100],\n",
       "                         'cvec__min_df': [4, 5, 6],\n",
       "                         'cvec__ngram_range': [(1, 3), (1, 2)],\n",
       "                         'tfidf__use_idf': [True, False]},\n",
       "             verbose=1)"
      ]
     },
     "execution_count": 226,
     "metadata": {},
     "output_type": "execute_result"
    }
   ],
   "source": [
    "##Do the same for CVEC, TFIDF, & RANDOM FOREST\n",
    "cvec_idf_pipe = Pipeline([\n",
    "    ('cvec', CountVectorizer()),\n",
    "    ('tfidf' , TfidfTransformer()),\n",
    "    ('rf', RandomForestClassifier())\n",
    "])\n",
    "\n",
    "pipe_params_cidf = {\n",
    "        'cvec__max_features' : [1500, 1800, 2000, 2100],\n",
    "        'cvec__ngram_range' : [(1, 3), (1, 2)],\n",
    "        'cvec__min_df' : [4, 5, 6],\n",
    "        'tfidf__use_idf': [True, False]\n",
    "}\n",
    "\n",
    "\n",
    "# Instantiate GridSearchCV.\n",
    "gs_cvec_idf = GridSearchCV(cvec_idf_pipe,\n",
    "                      param_grid=pipe_params_cidf,\n",
    "                      cv=5,\n",
    "                      verbose=1)\n",
    "\n",
    "\n",
    "\n",
    "# Fit GridSearch to training data.\n",
    "gs_cvec_idf.fit(X_train, y_train)\n",
    "\n",
    "##Lesson 5.03 & 5.04"
   ]
  },
  {
   "cell_type": "code",
   "execution_count": 227,
   "id": "7780a302",
   "metadata": {},
   "outputs": [],
   "source": [
    "# Get predictions\n",
    "preds_gs_cvec_idf = gs_cvec_idf.predict(X_test)\n",
    "\n",
    "# Save confusion matrix values\n",
    "tn, fp, fn, tp = confusion_matrix(y_test, preds_gs_cvec_idf).ravel()"
   ]
  },
  {
   "cell_type": "code",
   "execution_count": 228,
   "id": "2df21455",
   "metadata": {},
   "outputs": [
    {
     "data": {
      "image/png": "[encoded data removed]",
      "text/plain": [
       "<Figure size 432x288 with 2 Axes>"
      ]
     },
     "metadata": {
      "needs_background": "light"
     },
     "output_type": "display_data"
    }
   ],
   "source": [
    "plot_confusion_matrix(gs_cvec_idf, X_test, y_test, cmap='Blues', values_format='d');"
   ]
  },
  {
   "cell_type": "code",
   "execution_count": 229,
   "id": "c86911ba",
   "metadata": {},
   "outputs": [],
   "source": [
    "row_dict_gs_cvec_idf = {\n",
    "    'Column Used' : [corpus],\n",
    "    'Best Estimator' : [gs_cvec_idf.best_estimator_],\n",
    "    'Train Score' : [gs_cvec_idf.score(X_train, y_train)],\n",
    "    'Test Score' : [gs_cvec_idf.score(X_test, y_test)],\n",
    "    'True Positive' : [tp],\n",
    "    'True Negative' : [tn],\n",
    "    'False Positive' : [fp],\n",
    "    'False Negative' : [fn]\n",
    "}"
   ]
  },
  {
   "cell_type": "markdown",
   "id": "1aec6f42",
   "metadata": {},
   "source": [
    "## Add rows to comparison Dataframe"
   ]
  },
  {
   "cell_type": "code",
   "execution_count": 230,
   "id": "c2e5a1cf",
   "metadata": {},
   "outputs": [],
   "source": [
    "## Convert dictionaries to Datframes\n",
    "add_row_cvec = pd.DataFrame(row_dict_cvec)\n",
    "add_row_tvec = pd.DataFrame(row_dict_tvec)\n",
    "add_row_gs_cvec_idf = pd.DataFrame(row_dict_gs_cvec_idf)"
   ]
  },
  {
   "cell_type": "code",
   "execution_count": 231,
   "id": "75950180",
   "metadata": {},
   "outputs": [],
   "source": [
    "## Add rows to comparison dataframe\n",
    "df_compare = pd.concat([df_compare, add_row_tvec, add_row_cvec, add_row_gs_cvec_idf])"
   ]
  },
  {
   "cell_type": "markdown",
   "id": "cfab41ae",
   "metadata": {},
   "source": [
    "## Stop Iteration"
   ]
  },
  {
   "cell_type": "code",
   "execution_count": 233,
   "id": "53725678",
   "metadata": {},
   "outputs": [],
   "source": [
    "##Comment these until final run for maximum eff.\n",
    "df_compare.reset_index(drop=True, inplace=True)"
   ]
  },
  {
   "cell_type": "code",
   "execution_count": 238,
   "id": "ffe48eec",
   "metadata": {},
   "outputs": [],
   "source": [
    "##Comment these out until the end for maximum eff.\n",
    "df_compare.to_csv('./data/compare_models.csv')"
   ]
  }
 ],
 "metadata": {
  "kernelspec": {
   "display_name": "Python 3",
   "language": "python",
   "name": "python3"
  },
  "language_info": {
   "codemirror_mode": {
    "name": "ipython",
    "version": 3
   },
   "file_extension": ".py",
   "mimetype": "text/x-python",
   "name": "python",
   "nbconvert_exporter": "python",
   "pygments_lexer": "ipython3",
   "version": "3.8.8"
  }
 },
 "nbformat": 4,
 "nbformat_minor": 5
}
